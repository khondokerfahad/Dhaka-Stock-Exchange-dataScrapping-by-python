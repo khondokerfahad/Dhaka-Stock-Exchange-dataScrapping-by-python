{
  "nbformat": 4,
  "nbformat_minor": 0,
  "metadata": {
    "colab": {
      "provenance": []
    },
    "kernelspec": {
      "name": "python3",
      "display_name": "Python 3"
    },
    "language_info": {
      "name": "python"
    }
  },
  "cells": [
    {
      "cell_type": "markdown",
      "source": [
        "Assignment 01 = Gather DSA info from 2020 - 2022"
      ],
      "metadata": {
        "id": "ZYa6VVdk8sLn"
      }
    },
    {
      "cell_type": "code",
      "source": [
        "!pip install requests-html"
      ],
      "metadata": {
        "colab": {
          "base_uri": "https://localhost:8080/"
        },
        "id": "QYvk_-dg82KC",
        "outputId": "f4366310-2dcf-4e7f-a7de-a8c8eb61f4ad"
      },
      "execution_count": 1,
      "outputs": [
        {
          "output_type": "stream",
          "name": "stdout",
          "text": [
            "Looking in indexes: https://pypi.org/simple, https://us-python.pkg.dev/colab-wheels/public/simple/\n",
            "Collecting requests-html\n",
            "  Downloading requests_html-0.10.0-py3-none-any.whl (13 kB)\n",
            "Requirement already satisfied: requests in /usr/local/lib/python3.7/dist-packages (from requests-html) (2.23.0)\n",
            "Collecting pyquery\n",
            "  Downloading pyquery-1.4.3-py3-none-any.whl (22 kB)\n",
            "Collecting fake-useragent\n",
            "  Downloading fake-useragent-0.1.11.tar.gz (13 kB)\n",
            "Requirement already satisfied: bs4 in /usr/local/lib/python3.7/dist-packages (from requests-html) (0.0.1)\n",
            "Collecting w3lib\n",
            "  Downloading w3lib-2.0.1-py3-none-any.whl (20 kB)\n",
            "Collecting parse\n",
            "  Downloading parse-1.19.0.tar.gz (30 kB)\n",
            "Collecting pyppeteer>=0.0.14\n",
            "  Downloading pyppeteer-1.0.2-py3-none-any.whl (83 kB)\n",
            "\u001b[K     |████████████████████████████████| 83 kB 1.4 MB/s \n",
            "\u001b[?25hRequirement already satisfied: tqdm<5.0.0,>=4.42.1 in /usr/local/lib/python3.7/dist-packages (from pyppeteer>=0.0.14->requests-html) (4.64.0)\n",
            "Requirement already satisfied: appdirs<2.0.0,>=1.4.3 in /usr/local/lib/python3.7/dist-packages (from pyppeteer>=0.0.14->requests-html) (1.4.4)\n",
            "Collecting pyee<9.0.0,>=8.1.0\n",
            "  Downloading pyee-8.2.2-py2.py3-none-any.whl (12 kB)\n",
            "Requirement already satisfied: importlib-metadata>=1.4 in /usr/local/lib/python3.7/dist-packages (from pyppeteer>=0.0.14->requests-html) (4.12.0)\n",
            "Collecting urllib3<2.0.0,>=1.25.8\n",
            "  Downloading urllib3-1.26.12-py2.py3-none-any.whl (140 kB)\n",
            "\u001b[K     |████████████████████████████████| 140 kB 51.1 MB/s \n",
            "\u001b[?25hCollecting websockets<11.0,>=10.0\n",
            "  Downloading websockets-10.3-cp37-cp37m-manylinux_2_5_x86_64.manylinux1_x86_64.manylinux_2_12_x86_64.manylinux2010_x86_64.whl (112 kB)\n",
            "\u001b[K     |████████████████████████████████| 112 kB 53.0 MB/s \n",
            "\u001b[?25hRequirement already satisfied: certifi>=2021 in /usr/local/lib/python3.7/dist-packages (from pyppeteer>=0.0.14->requests-html) (2022.6.15)\n",
            "Requirement already satisfied: zipp>=0.5 in /usr/local/lib/python3.7/dist-packages (from importlib-metadata>=1.4->pyppeteer>=0.0.14->requests-html) (3.8.1)\n",
            "Requirement already satisfied: typing-extensions>=3.6.4 in /usr/local/lib/python3.7/dist-packages (from importlib-metadata>=1.4->pyppeteer>=0.0.14->requests-html) (4.1.1)\n",
            "Requirement already satisfied: beautifulsoup4 in /usr/local/lib/python3.7/dist-packages (from bs4->requests-html) (4.6.3)\n",
            "Collecting cssselect>0.7.9\n",
            "  Downloading cssselect-1.1.0-py2.py3-none-any.whl (16 kB)\n",
            "Requirement already satisfied: lxml>=2.1 in /usr/local/lib/python3.7/dist-packages (from pyquery->requests-html) (4.9.1)\n",
            "Requirement already satisfied: idna<3,>=2.5 in /usr/local/lib/python3.7/dist-packages (from requests->requests-html) (2.10)\n",
            "Collecting urllib3<2.0.0,>=1.25.8\n",
            "  Downloading urllib3-1.25.11-py2.py3-none-any.whl (127 kB)\n",
            "\u001b[K     |████████████████████████████████| 127 kB 42.0 MB/s \n",
            "\u001b[?25hRequirement already satisfied: chardet<4,>=3.0.2 in /usr/local/lib/python3.7/dist-packages (from requests->requests-html) (3.0.4)\n",
            "Building wheels for collected packages: fake-useragent, parse\n",
            "  Building wheel for fake-useragent (setup.py) ... \u001b[?25l\u001b[?25hdone\n",
            "  Created wheel for fake-useragent: filename=fake_useragent-0.1.11-py3-none-any.whl size=13502 sha256=e3b259286c08d83b3c3a32f6e888bd45163b4ee3f7cf4a9cc802a04a93fd54d1\n",
            "  Stored in directory: /root/.cache/pip/wheels/ed/f7/62/50ab6c9a0b5567267ab76a9daa9d06315704209b2c5d032031\n",
            "  Building wheel for parse (setup.py) ... \u001b[?25l\u001b[?25hdone\n",
            "  Created wheel for parse: filename=parse-1.19.0-py3-none-any.whl size=24591 sha256=e48a3b695a6c341b705079be1b7a8b10e6e13e2493c2e764a9af691991b9e7e7\n",
            "  Stored in directory: /root/.cache/pip/wheels/9c/aa/cc/f2228050ccb40f22144b073f15a2c84f11204f29fc0dce028e\n",
            "Successfully built fake-useragent parse\n",
            "Installing collected packages: websockets, urllib3, pyee, cssselect, w3lib, pyquery, pyppeteer, parse, fake-useragent, requests-html\n",
            "  Attempting uninstall: urllib3\n",
            "    Found existing installation: urllib3 1.24.3\n",
            "    Uninstalling urllib3-1.24.3:\n",
            "      Successfully uninstalled urllib3-1.24.3\n",
            "Successfully installed cssselect-1.1.0 fake-useragent-0.1.11 parse-1.19.0 pyee-8.2.2 pyppeteer-1.0.2 pyquery-1.4.3 requests-html-0.10.0 urllib3-1.25.11 w3lib-2.0.1 websockets-10.3\n"
          ]
        }
      ]
    },
    {
      "cell_type": "code",
      "execution_count": 2,
      "metadata": {
        "colab": {
          "base_uri": "https://localhost:8080/"
        },
        "id": "QciRFOcF8m1V",
        "outputId": "501e11f3-b7e8-4bb7-b5b5-efbcf5547e45"
      },
      "outputs": [
        {
          "output_type": "stream",
          "name": "stdout",
          "text": [
            "Enter start year : 2020\n",
            "Enter end year : 2021\n",
            "2020-January --------> \n",
            "https://dsebd.org/old_news.php?startDate=2020-01-01&endDate=2020-01-31&criteria=4&archive=news\n",
            "2020-February --------> \n",
            "https://dsebd.org/old_news.php?startDate=2020-02-01&endDate=2020-02-31&criteria=4&archive=news\n",
            "2020-March --------> \n",
            "https://dsebd.org/old_news.php?startDate=2020-03-01&endDate=2020-03-31&criteria=4&archive=news\n",
            "2020-April --------> \n",
            "https://dsebd.org/old_news.php?startDate=2020-04-01&endDate=2020-04-31&criteria=4&archive=news\n",
            "2020-May --------> \n",
            "https://dsebd.org/old_news.php?startDate=2020-05-01&endDate=2020-05-31&criteria=4&archive=news\n",
            "2020-June --------> \n",
            "https://dsebd.org/old_news.php?startDate=2020-06-01&endDate=2020-06-31&criteria=4&archive=news\n",
            "2020-July --------> \n",
            "https://dsebd.org/old_news.php?startDate=2020-07-01&endDate=2020-07-31&criteria=4&archive=news\n",
            "2020-August --------> \n",
            "https://dsebd.org/old_news.php?startDate=2020-08-01&endDate=2020-08-31&criteria=4&archive=news\n",
            "2020-September --------> \n",
            "https://dsebd.org/old_news.php?startDate=2020-09-01&endDate=2020-09-31&criteria=4&archive=news\n",
            "2020-October --------> \n",
            "https://dsebd.org/old_news.php?startDate=2020-10-01&endDate=2020-10-31&criteria=4&archive=news\n",
            "2020-November --------> \n",
            "https://dsebd.org/old_news.php?startDate=2020-11-01&endDate=2020-11-31&criteria=4&archive=news\n",
            "2020-December --------> \n",
            "https://dsebd.org/old_news.php?startDate=2020-12-01&endDate=2020-12-31&criteria=4&archive=news\n",
            "2021-January --------> \n",
            "https://dsebd.org/old_news.php?startDate=2021-01-01&endDate=2021-01-31&criteria=4&archive=news\n",
            "2021-February --------> \n",
            "https://dsebd.org/old_news.php?startDate=2021-02-01&endDate=2021-02-31&criteria=4&archive=news\n",
            "2021-March --------> \n",
            "https://dsebd.org/old_news.php?startDate=2021-03-01&endDate=2021-03-31&criteria=4&archive=news\n",
            "2021-April --------> \n",
            "https://dsebd.org/old_news.php?startDate=2021-04-01&endDate=2021-04-31&criteria=4&archive=news\n",
            "2021-May --------> \n",
            "https://dsebd.org/old_news.php?startDate=2021-05-01&endDate=2021-05-31&criteria=4&archive=news\n",
            "2021-June --------> \n",
            "https://dsebd.org/old_news.php?startDate=2021-06-01&endDate=2021-06-31&criteria=4&archive=news\n",
            "2021-July --------> \n",
            "https://dsebd.org/old_news.php?startDate=2021-07-01&endDate=2021-07-31&criteria=4&archive=news\n",
            "2021-August --------> \n",
            "https://dsebd.org/old_news.php?startDate=2021-08-01&endDate=2021-08-31&criteria=4&archive=news\n",
            "2021-September --------> \n",
            "https://dsebd.org/old_news.php?startDate=2021-09-01&endDate=2021-09-31&criteria=4&archive=news\n",
            "2021-October --------> \n",
            "https://dsebd.org/old_news.php?startDate=2021-10-01&endDate=2021-10-31&criteria=4&archive=news\n",
            "2021-November --------> \n",
            "https://dsebd.org/old_news.php?startDate=2021-11-01&endDate=2021-11-31&criteria=4&archive=news\n",
            "2021-December --------> \n",
            "https://dsebd.org/old_news.php?startDate=2021-12-01&endDate=2021-12-31&criteria=4&archive=news\n"
          ]
        }
      ],
      "source": [
        "##Assignment 1(DSA info from 2020-2022)\n",
        "\n",
        "from requests_html import HTMLSession\n",
        "session = HTMLSession()\n",
        "month = ['January' , 'February' , 'March' , 'April' , 'May' , 'June' , 'July' , 'August' , 'September' , 'October' , 'November' , 'December']\n",
        "#print(month[0])\n",
        "def getinfo_dsa(start_year , end_year):\n",
        "    for year in range(start_year , end_year+1):\n",
        "        for j in range(len(month)):\n",
        "            print(f\"{year}-{month[j]} --------> \")\n",
        "            if(j<=8):\n",
        "                url = f\"https://dsebd.org/old_news.php?startDate={year}-0{j+1}-01&endDate={year}-0{j+1}-31&criteria=4&archive=news\"\n",
        "            else:\n",
        "                url = f\"https://dsebd.org/old_news.php?startDate={year}-{j+1}-01&endDate={year}-{j+1}-31&criteria=4&archive=news\"\n",
        "                \n",
        "            print(url)\n",
        "            m = session.get(url)\n",
        "          \n",
        "            dse_news = m.html.find(\".table-news\")[0].text\n",
        "            dse_news_lst = dse_news.split('\\n')\n",
        "            trading_code = dse_news_lst[1::8]\n",
        "            news_title = dse_news_lst[3::8]\n",
        "            news = dse_news_lst[5::8]\n",
        "            post_date = dse_news_lst[7::8]\n",
        "          \n",
        "            with open(f\"{year}_{month[j]}.txt\", \"w\") as f:\n",
        "                f.write(\"No , Tradind Code , News Title , News , Post date\\n\")\n",
        "                for no, t, nt, n , pd in zip(range(1, len(trading_code)+1), trading_code , news_title, news , post_date):\n",
        "                    f.write(f\"{no} -- {t} -- {nt} -- {n} -- {pd}\")\n",
        "                    f.write('\\n')\n",
        "\n",
        "a = int(input(\"Enter start year : \"))\n",
        "b = int(input(\"Enter end year : \"))\n",
        "getinfo_dsa(a,b)"
      ]
    },
    {
      "cell_type": "code",
      "source": [],
      "metadata": {
        "id": "fOOypKnd9E2z"
      },
      "execution_count": null,
      "outputs": []
    }
  ]
}